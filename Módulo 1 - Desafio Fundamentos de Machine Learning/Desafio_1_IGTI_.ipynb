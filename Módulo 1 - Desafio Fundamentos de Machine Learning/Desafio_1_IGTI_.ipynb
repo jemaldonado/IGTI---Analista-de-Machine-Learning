{
  "nbformat": 4,
  "nbformat_minor": 0,
  "metadata": {
    "colab": {
      "name": "Desafio 1 - IGTI .ipynb",
      "provenance": [],
      "authorship_tag": "ABX9TyPtq4ORRaoNKJtEsFGSqhL+",
      "include_colab_link": true
    },
    "kernelspec": {
      "name": "python3",
      "display_name": "Python 3"
    }
  },
  "cells": [
    {
      "cell_type": "markdown",
      "metadata": {
        "id": "view-in-github",
        "colab_type": "text"
      },
      "source": [
        "<a href=\"https://colab.research.google.com/github/jemaldonado/IGTI_Analista-de-Machine-Learning/blob/master/M%C3%B3dulo%201-%20Fundamentos%20de%20Machine%20Learning/Desafio_1_IGTI_.ipynb\" target=\"_parent\"><img src=\"https://colab.research.google.com/assets/colab-badge.svg\" alt=\"Open In Colab\"/></a>"
      ]
    },
    {
      "cell_type": "code",
      "metadata": {
        "id": "yWLBsU9aNtSn"
      },
      "source": [
        ""
      ],
      "execution_count": null,
      "outputs": []
    }
  ]
}